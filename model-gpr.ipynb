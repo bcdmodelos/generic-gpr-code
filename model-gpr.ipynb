{
 "cells": [
  {
   "cell_type": "markdown",
   "metadata": {},
   "source": [
    "## Code for Guassian Regression Process"
   ]
  },
  {
   "cell_type": "code",
   "execution_count": null,
   "metadata": {},
   "outputs": [],
   "source": [
    "import numpy as np\n",
    "import pandas as pd\n",
    "import matplotlib.pyplot as plt\n",
    "import matplotlib as mpl\n",
    "from sklearn.metrics import r2_score\n",
    "from sklearn.gaussian_process import GaussianProcessRegressor\n",
    "from sklearn.gaussian_process.kernels import ConstantKernel, DotProduct, ExpSineSquared, Matern, RBF, RationalQuadratic, WhiteKernel\n",
    "\n",
    "from sklearn.metrics import r2_score, mean_squared_error\n",
    "from tqdm import tqdm"
   ]
  },
  {
   "cell_type": "markdown",
   "metadata": {},
   "source": [
    "### Dataset"
   ]
  },
  {
   "cell_type": "code",
   "execution_count": null,
   "metadata": {},
   "outputs": [],
   "source": [
    "data = f\"dataset/dataset_City.csv\"\n",
    "df = pd.read_csv(data)"
   ]
  },
  {
   "cell_type": "code",
   "execution_count": null,
   "metadata": {},
   "outputs": [],
   "source": [
    "data = np.array(df.cum_casos.values)\n",
    "data = data.reshape(-1, 1)\n",
    "\n",
    "CRdata = data/1000\n",
    "CRdata  = np.ravel(CRdata)"
   ]
  },
  {
   "cell_type": "code",
   "execution_count": null,
   "metadata": {},
   "outputs": [],
   "source": [
    "plt.figure(1, figsize=(11, 7), dpi=80, facecolor='w', edgecolor='k')\n",
    "plt.plot(data, linewidth = 3)\n",
    "plt.legend(['Time series'])\n",
    "plt.grid(color='k', linestyle='--', linewidth=0.1)\n",
    "plt.ylabel('X', fontsize = 14)\n",
    "plt.xlabel('Y', fontsize = 14)\n",
    "plt.title('Data', fontsize = 14)"
   ]
  },
  {
   "cell_type": "code",
   "execution_count": null,
   "metadata": {},
   "outputs": [],
   "source": [
    "trainL = len(CRdata) - 60\n",
    "t = np.linspace(1,len(CRdata),len(CRdata))\n",
    "t = t.reshape(len(t),1)\n",
    "t = np.atleast_2d(t)\n",
    "\n",
    "t_tr  = t[0:trainL]\n",
    "t_test = t[trainL:]\n",
    "\n",
    "CR_tr = CRdata[0:trainL]\n",
    "CR_test = CRdata[trainL:]"
   ]
  },
  {
   "cell_type": "code",
   "execution_count": null,
   "metadata": {},
   "outputs": [],
   "source": [
    "def half_data(data, time):\n",
    "    half_data = []\n",
    "    half_time = []\n",
    "    for i,item in enumerate(data):\n",
    "        if i%2 == 0:\n",
    "            half_data.append(item)\n",
    "            half_time.append(time[i])\n",
    "\n",
    "    return np.array(half_data), np.array(half_time)"
   ]
  },
  {
   "cell_type": "markdown",
   "metadata": {},
   "source": [
    "### GPR Model"
   ]
  },
  {
   "cell_type": "code",
   "execution_count": null,
   "metadata": {},
   "outputs": [],
   "source": [
    "def GPR_Model(CR_tr, t_tr, CR_test, t_test):\n",
    "    t = np.append(t_tr, t_test).reshape(-1, 1)\n",
    "    CRdata = np.append(CR_tr, CR_test)\n",
    "\n",
    "    kernel = RBF() # Kernel combinations\n",
    "\n",
    "    model = GaussianProcessRegressor(kernel=kernel, n_restarts_optimizer=50, alpha=10, normalize_y=False)\n",
    "    model.fit(t_tr, CR_tr)\n",
    "\n",
    "    CRpred_tr, sigma_tr = model.predict(t_tr, return_std=True)\n",
    "    CRpred_test, sigma_test = model.predict(t_test, return_std=True)\n",
    "    CRpred, sigma = model.predict(t, return_std=True)\n",
    "\n",
    "    r2_tr = r2_score(CR_tr, CRpred_tr)\n",
    "    r2_test = r2_score(CR_test, CRpred_test)\n",
    "    r2_combined = r2_score(CRdata, CRpred)\n",
    "\n",
    "    mse_combined = mean_squared_error(CRdata, CRpred)\n",
    "    std_combined = np.std(CRpred - CRdata)\n",
    "\n",
    "    return {\n",
    "        'CRpred_tr': CRpred_tr,\n",
    "        'sigma_tr': sigma_tr,\n",
    "        'CRpred_test': CRpred_test,\n",
    "        'sigma_test': sigma_test,\n",
    "        'CRpred': CRpred,\n",
    "        'sigma': sigma,\n",
    "        't': t,\n",
    "        'CRdata': CRdata,\n",
    "        'mse': mse_combined,\n",
    "        'std': std_combined,\n",
    "        'r2_tr': r2_tr,\n",
    "        'r2_combined': r2_combined,\n",
    "        'r2_test': r2_test,\n",
    "        'kernel': model.kernel_\n",
    "    }"
   ]
  },
  {
   "cell_type": "markdown",
   "metadata": {},
   "source": [
    "### Evaluation metrics"
   ]
  },
  {
   "cell_type": "code",
   "execution_count": null,
   "metadata": {},
   "outputs": [],
   "source": [
    "def find_best_model(CR_tr, t_tr, CR_test, t_test, patience=10):\n",
    "    best_result = None\n",
    "    no_improvement_count = 0\n",
    "\n",
    "    with tqdm(total=patience, desc=\"Progress\") as pbar:\n",
    "        while no_improvement_count < patience:\n",
    "            result = GPR_Model(CR_tr, t_tr, CR_test, t_test)\n",
    "\n",
    "            if best_result is None or result['mse'] < best_result['mse']:\n",
    "                best_result = result\n",
    "                no_improvement_count = 0\n",
    "            else:\n",
    "                no_improvement_count += 1\n",
    "                pbar.update(1)\n",
    "\n",
    "    return best_result"
   ]
  },
  {
   "cell_type": "code",
   "execution_count": null,
   "metadata": {},
   "outputs": [],
   "source": [
    "best_result = find_best_model(CR_tr, t_tr, CR_test, t_test)"
   ]
  },
  {
   "cell_type": "code",
   "execution_count": null,
   "metadata": {},
   "outputs": [],
   "source": [
    "print(\"Best learned kernel:\", best_result['kernel'])\n",
    "print(\"Best MSE:\", best_result['mse'])\n",
    "print(\"Best STD:\", best_result['std'])\n",
    "print(\"Best R² train:\", best_result['r2_tr'])\n",
    "print(\"Best R²:\", best_result['r2_combined'])\n",
    "print(\"Best R² test:\", best_result['r2_test'])"
   ]
  },
  {
   "cell_type": "markdown",
   "metadata": {},
   "source": [
    "### Graph"
   ]
  },
  {
   "cell_type": "code",
   "execution_count": null,
   "metadata": {},
   "outputs": [],
   "source": [
    "def plot_gpr(CRdata, CRpred, sigma, t, t_test):\n",
    "  plt.figure(1, figsize=(12, 7), dpi=80, facecolor='w', edgecolor='k')\n",
    "  mpl.style.use('default')\n",
    "\n",
    "  plt.plot(t, CRdata, 'ko', markersize=3, mfc='none', linewidth=1, label='Data')\n",
    "  plt.axvline(x=t_test[0], linestyle='--', color='black')\n",
    "  plt.plot(t, CRpred, 'b-', label='Prediction via GPR model', linewidth=3)\n",
    "  plt.fill(np.concatenate([t, t[::-1]]),\n",
    "          np.concatenate([CRpred - 1.9600 * sigma,\n",
    "                          (CRpred + 1.9600 * sigma)[::-1]]),\n",
    "          alpha=.25, fc='b', ec='None', label='confidence interval of 95%')\n",
    "  plt.legend(loc='upper left', fontsize=14)\n",
    "  plt.grid(color='k', linestyle='--', linewidth=0.1)\n",
    "  plt.ylabel('Total cases (in thousands)', fontsize=14)\n",
    "  plt.xlabel('Day', fontsize=14)\n",
    "  plt.title('Data Chart - GPR Model', fontsize=14)\n",
    "  plt.gca().spines['top'].set_visible(False)\n",
    "  plt.gca().spines['right'].set_visible(False)\n",
    "\n",
    "  plt.show()"
   ]
  },
  {
   "cell_type": "code",
   "execution_count": null,
   "metadata": {},
   "outputs": [],
   "source": [
    "plot_gpr(best_result['CRdata'], best_result['CRpred'], best_result['sigma'], best_result['t'], t_test)"
   ]
  }
 ],
 "metadata": {
  "language_info": {
   "name": "python"
  }
 },
 "nbformat": 4,
 "nbformat_minor": 2
}
